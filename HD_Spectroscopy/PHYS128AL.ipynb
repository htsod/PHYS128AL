{
  "cells": [
    {
      "attachments": {},
      "cell_type": "markdown",
      "metadata": {},
      "source": [
        "# Spectral Analysis of Hydrogen and Deuterium"
      ]
    },
    {
      "attachments": {},
      "cell_type": "markdown",
      "metadata": {},
      "source": [
        "## Import Functions"
      ]
    },
    {
      "cell_type": "code",
      "execution_count": 205,
      "metadata": {
        "trusted": true
      },
      "outputs": [],
      "source": [
        "import csv\n",
        "import numpy as np\n",
        "import pandas as pd\n",
        "import matplotlib.pyplot as plt\n",
        "from scipy.signal import lfilter\n",
        "\n",
        "\n",
        "def get_max(v):\n",
        "    max = v[0]\n",
        "    index = 0\n",
        "    for i in range(1,len(v)):\n",
        "        if v[i] > max:\n",
        "            max = v[i]\n",
        "            index = i\n",
        "    return max, index\n",
        "\n",
        "\n",
        "def change_scale(time):\n",
        "    t_scale = get_max(time)[0] / len(time)\n",
        "    return t_scale\n",
        "\n",
        "\n",
        "def get_time(voltage, time, t_start, t_break):\n",
        "    start = int(t_start / change_scale(time))\n",
        "    end = int(t_break / change_scale(time))\n",
        "    v = voltage[start:end]\n",
        "    t = time[start:end]\n",
        "    val, indic = get_max(v)\n",
        "    return t[indic]\n",
        "\n"
      ]
    },
    {
      "attachments": {},
      "cell_type": "markdown",
      "metadata": {},
      "source": [
        "## Data Processing and Visualization"
      ]
    },
    {
      "cell_type": "code",
      "execution_count": 206,
      "metadata": {},
      "outputs": [
        {
          "data": {
            "text/plain": [
              "<matplotlib.legend.Legend at 0x7fdcd571a290>"
            ]
          },
          "execution_count": 206,
          "metadata": {},
          "output_type": "execute_result"
        },
        {
          "data": {
            "image/png": "[encoded data removed]",
            "text/plain": [
              "<Figure size 640x480 with 1 Axes>"
            ]
          },
          "metadata": {},
          "output_type": "display_data"
        }
      ],
      "source": [
        "time = []\n",
        "voltage = []\n",
        "\n",
        "with open(\"n6/n6_4.csv\") as csvfile:\n",
        "    read_data = csv.reader(csvfile, delimiter=',')\n",
        "    for row in read_data:\n",
        "        time.append(float(row[0]))\n",
        "        voltage.append(float(row[1]))\n",
        "time = time[:]\n",
        "voltage = voltage[:]\n",
        "\n",
        "n = 10000\n",
        "b = [1.0 / n] * n\n",
        "a = 1\n",
        "v_filter = lfilter(b, a, voltage)\n",
        "\n",
        "fig, ax = plt.subplots()\n",
        "ax.plot(time, voltage, 'b', label=\"Unfilter\")\n",
        "ax.plot(time, v_filter, 'r', label=\"Filtered\")\n",
        "ax.legend()"
      ]
    },
    {
      "attachments": {},
      "cell_type": "markdown",
      "metadata": {},
      "source": [
        "## Mesurements"
      ]
    },
    {
      "cell_type": "code",
      "execution_count": 207,
      "metadata": {
        "trusted": true
      },
      "outputs": [
        {
          "name": "stdout",
          "output_type": "stream",
          "text": [
            "t1 = 9.814204, t2 = 21.264492 \n",
            "The diff in time is 11.450288 \n",
            "The different in wavelength = 1.0007551712 A\n"
          ]
        }
      ],
      "source": [
        "t1 = get_time(v_filter, time, 5, 15)\n",
        "t2 = get_time(v_filter, time, 20, 30)\n",
        "t_diff = t2 - t1\n",
        "w_diff = t_diff * 0.08740\n",
        "print(f\"t1 = {t1}, t2 = {t2} \\nThe diff in time is {t_diff} \\nThe different in wavelength = {w_diff} A\")"
      ]
    },
    {
      "attachments": {},
      "cell_type": "markdown",
      "metadata": {},
      "source": [
        "## Statistical Data"
      ]
    },
    {
      "attachments": {},
      "cell_type": "markdown",
      "metadata": {},
      "source": [
        "#### Doublet"
      ]
    },
    {
      "cell_type": "code",
      "execution_count": 214,
      "metadata": {
        "trusted": true
      },
      "outputs": [
        {
          "name": "stdout",
          "output_type": "stream",
          "text": [
            "   t_dff(s)  wavelength_diff(A)\n",
            "0    6.8635                   0\n",
            "1    6.8632                   0\n",
            "2    6.8753                   0\n",
            "3    6.8617                   0\n",
            "4    6.8660                   0\n"
          ]
        },
        {
          "data": {
            "text/html": [
              "<div>\n",
              "<style scoped>\n",
              "    .dataframe tbody tr th:only-of-type {\n",
              "        vertical-align: middle;\n",
              "    }\n",
              "\n",
              "    .dataframe tbody tr th {\n",
              "        vertical-align: top;\n",
              "    }\n",
              "\n",
              "    .dataframe thead th {\n",
              "        text-align: right;\n",
              "    }\n",
              "</style>\n",
              "<table border=\"1\" class=\"dataframe\">\n",
              "  <thead>\n",
              "    <tr style=\"text-align: right;\">\n",
              "      <th></th>\n",
              "      <th>t_dff(s)</th>\n",
              "      <th>wavelength_diff(A)</th>\n",
              "    </tr>\n",
              "  </thead>\n",
              "  <tbody>\n",
              "    <tr>\n",
              "      <th>count</th>\n",
              "      <td>5.000000</td>\n",
              "      <td>5.0</td>\n",
              "    </tr>\n",
              "    <tr>\n",
              "      <th>mean</th>\n",
              "      <td>6.865940</td>\n",
              "      <td>0.0</td>\n",
              "    </tr>\n",
              "    <tr>\n",
              "      <th>std</th>\n",
              "      <td>0.005456</td>\n",
              "      <td>0.0</td>\n",
              "    </tr>\n",
              "    <tr>\n",
              "      <th>min</th>\n",
              "      <td>6.861700</td>\n",
              "      <td>0.0</td>\n",
              "    </tr>\n",
              "    <tr>\n",
              "      <th>max</th>\n",
              "      <td>6.875300</td>\n",
              "      <td>0.0</td>\n",
              "    </tr>\n",
              "  </tbody>\n",
              "</table>\n",
              "</div>"
            ],
            "text/plain": [
              "       t_dff(s)  wavelength_diff(A)\n",
              "count  5.000000                 5.0\n",
              "mean   6.865940                 0.0\n",
              "std    0.005456                 0.0\n",
              "min    6.861700                 0.0\n",
              "max    6.875300                 0.0"
            ]
          },
          "execution_count": 214,
          "metadata": {},
          "output_type": "execute_result"
        }
      ],
      "source": [
        "T_diff = [6.8635, 6.8632, 6.8753, 6.8617, 6.8660]\n",
        "W_diff = [0, 0, 0, 0, 0]\n",
        "df1 = pd.DataFrame({\"t_dff(s)\": T_diff, \"wavelength_diff(A)\": W_diff})\n",
        "print(df1)\n",
        "df1.describe().loc[[\"count\", \"mean\", \"std\", \"min\", \"max\"]]"
      ]
    },
    {
      "attachments": {},
      "cell_type": "markdown",
      "metadata": {},
      "source": [
        "#### n_i = 3"
      ]
    },
    {
      "cell_type": "code",
      "execution_count": 215,
      "metadata": {},
      "outputs": [
        {
          "name": "stdout",
          "output_type": "stream",
          "text": [
            "n_i = 3\n",
            "   t_dff(s)  wavelength_diff(A)\n",
            "0    20.076              1.8420\n",
            "1    20.425              1.7851\n",
            "2    21.095              1.8437\n",
            "3    20.272              1.7718\n",
            "4    20.669              1.8064\n"
          ]
        },
        {
          "data": {
            "text/html": [
              "<div>\n",
              "<style scoped>\n",
              "    .dataframe tbody tr th:only-of-type {\n",
              "        vertical-align: middle;\n",
              "    }\n",
              "\n",
              "    .dataframe tbody tr th {\n",
              "        vertical-align: top;\n",
              "    }\n",
              "\n",
              "    .dataframe thead th {\n",
              "        text-align: right;\n",
              "    }\n",
              "</style>\n",
              "<table border=\"1\" class=\"dataframe\">\n",
              "  <thead>\n",
              "    <tr style=\"text-align: right;\">\n",
              "      <th></th>\n",
              "      <th>t_dff(s)</th>\n",
              "      <th>wavelength_diff(A)</th>\n",
              "    </tr>\n",
              "  </thead>\n",
              "  <tbody>\n",
              "    <tr>\n",
              "      <th>count</th>\n",
              "      <td>5.000000</td>\n",
              "      <td>5.000000</td>\n",
              "    </tr>\n",
              "    <tr>\n",
              "      <th>mean</th>\n",
              "      <td>20.507400</td>\n",
              "      <td>1.809800</td>\n",
              "    </tr>\n",
              "    <tr>\n",
              "      <th>std</th>\n",
              "      <td>0.393604</td>\n",
              "      <td>0.032603</td>\n",
              "    </tr>\n",
              "    <tr>\n",
              "      <th>min</th>\n",
              "      <td>20.076000</td>\n",
              "      <td>1.771800</td>\n",
              "    </tr>\n",
              "    <tr>\n",
              "      <th>max</th>\n",
              "      <td>21.095000</td>\n",
              "      <td>1.843700</td>\n",
              "    </tr>\n",
              "  </tbody>\n",
              "</table>\n",
              "</div>"
            ],
            "text/plain": [
              "        t_dff(s)  wavelength_diff(A)\n",
              "count   5.000000            5.000000\n",
              "mean   20.507400            1.809800\n",
              "std     0.393604            0.032603\n",
              "min    20.076000            1.771800\n",
              "max    21.095000            1.843700"
            ]
          },
          "execution_count": 215,
          "metadata": {},
          "output_type": "execute_result"
        }
      ],
      "source": [
        "T_diff = [20.076, 20.425, 21.095, 20.272, 20.669]\n",
        "W_diff = [1.8420, 1.7851, 1.8437, 1.7718, 1.8064]\n",
        "df2 = pd.DataFrame({\"t_dff(s)\": T_diff, \"wavelength_diff(A)\": W_diff})\n",
        "print(\"n_i = 3\")\n",
        "print(df2)\n",
        "df2.describe().loc[[\"count\", \"mean\", \"std\", \"min\", \"max\"]]"
      ]
    },
    {
      "attachments": {},
      "cell_type": "markdown",
      "metadata": {},
      "source": [
        "#### n_i = 4"
      ]
    },
    {
      "cell_type": "code",
      "execution_count": 216,
      "metadata": {},
      "outputs": [
        {
          "name": "stdout",
          "output_type": "stream",
          "text": [
            "n_i = 4\n",
            "   t_dff(s)  wavelength_diff(A)\n",
            "0    14.924              1.3043\n",
            "1    15.001              1.3119\n",
            "2    14.908              1.3029\n",
            "3    13.733              1.2003\n",
            "4    13.906              1.2154\n"
          ]
        },
        {
          "data": {
            "text/html": [
              "<div>\n",
              "<style scoped>\n",
              "    .dataframe tbody tr th:only-of-type {\n",
              "        vertical-align: middle;\n",
              "    }\n",
              "\n",
              "    .dataframe tbody tr th {\n",
              "        vertical-align: top;\n",
              "    }\n",
              "\n",
              "    .dataframe thead th {\n",
              "        text-align: right;\n",
              "    }\n",
              "</style>\n",
              "<table border=\"1\" class=\"dataframe\">\n",
              "  <thead>\n",
              "    <tr style=\"text-align: right;\">\n",
              "      <th></th>\n",
              "      <th>t_dff(s)</th>\n",
              "      <th>wavelength_diff(A)</th>\n",
              "    </tr>\n",
              "  </thead>\n",
              "  <tbody>\n",
              "    <tr>\n",
              "      <th>count</th>\n",
              "      <td>5.000000</td>\n",
              "      <td>5.000000</td>\n",
              "    </tr>\n",
              "    <tr>\n",
              "      <th>mean</th>\n",
              "      <td>14.494400</td>\n",
              "      <td>1.266960</td>\n",
              "    </tr>\n",
              "    <tr>\n",
              "      <th>std</th>\n",
              "      <td>0.620123</td>\n",
              "      <td>0.054331</td>\n",
              "    </tr>\n",
              "    <tr>\n",
              "      <th>min</th>\n",
              "      <td>13.733000</td>\n",
              "      <td>1.200300</td>\n",
              "    </tr>\n",
              "    <tr>\n",
              "      <th>max</th>\n",
              "      <td>15.001000</td>\n",
              "      <td>1.311900</td>\n",
              "    </tr>\n",
              "  </tbody>\n",
              "</table>\n",
              "</div>"
            ],
            "text/plain": [
              "        t_dff(s)  wavelength_diff(A)\n",
              "count   5.000000            5.000000\n",
              "mean   14.494400            1.266960\n",
              "std     0.620123            0.054331\n",
              "min    13.733000            1.200300\n",
              "max    15.001000            1.311900"
            ]
          },
          "execution_count": 216,
          "metadata": {},
          "output_type": "execute_result"
        }
      ],
      "source": [
        "T_diff = [14.924, 15.001, 14.908, 13.733, 13.906]\n",
        "W_diff = [1.3043, 1.3119, 1.3029, 1.2003, 1.2154]\n",
        "df2 = pd.DataFrame({\"t_dff(s)\": T_diff, \"wavelength_diff(A)\": W_diff})\n",
        "print(\"n_i = 4\")\n",
        "print(df2)\n",
        "df2.describe().loc[[\"count\", \"mean\", \"std\", \"min\", \"max\"]]"
      ]
    },
    {
      "attachments": {},
      "cell_type": "markdown",
      "metadata": {},
      "source": [
        "#### n_i = 5"
      ]
    },
    {
      "cell_type": "code",
      "execution_count": 217,
      "metadata": {},
      "outputs": [
        {
          "name": "stdout",
          "output_type": "stream",
          "text": [
            "n_i = 5\n",
            "   t_dff(s)  wavelength_diff(A)\n",
            "0    12.816              1.1201\n",
            "1    13.507              1.1805\n",
            "2    12.536              1.0956\n",
            "3    12.432              1.0866\n",
            "4    13.456              1.1760\n"
          ]
        },
        {
          "data": {
            "text/html": [
              "<div>\n",
              "<style scoped>\n",
              "    .dataframe tbody tr th:only-of-type {\n",
              "        vertical-align: middle;\n",
              "    }\n",
              "\n",
              "    .dataframe tbody tr th {\n",
              "        vertical-align: top;\n",
              "    }\n",
              "\n",
              "    .dataframe thead th {\n",
              "        text-align: right;\n",
              "    }\n",
              "</style>\n",
              "<table border=\"1\" class=\"dataframe\">\n",
              "  <thead>\n",
              "    <tr style=\"text-align: right;\">\n",
              "      <th></th>\n",
              "      <th>t_dff(s)</th>\n",
              "      <th>wavelength_diff(A)</th>\n",
              "    </tr>\n",
              "  </thead>\n",
              "  <tbody>\n",
              "    <tr>\n",
              "      <th>count</th>\n",
              "      <td>5.000000</td>\n",
              "      <td>5.000000</td>\n",
              "    </tr>\n",
              "    <tr>\n",
              "      <th>mean</th>\n",
              "      <td>12.949400</td>\n",
              "      <td>1.131760</td>\n",
              "    </tr>\n",
              "    <tr>\n",
              "      <th>std</th>\n",
              "      <td>0.505954</td>\n",
              "      <td>0.044203</td>\n",
              "    </tr>\n",
              "    <tr>\n",
              "      <th>min</th>\n",
              "      <td>12.432000</td>\n",
              "      <td>1.086600</td>\n",
              "    </tr>\n",
              "    <tr>\n",
              "      <th>max</th>\n",
              "      <td>13.507000</td>\n",
              "      <td>1.180500</td>\n",
              "    </tr>\n",
              "  </tbody>\n",
              "</table>\n",
              "</div>"
            ],
            "text/plain": [
              "        t_dff(s)  wavelength_diff(A)\n",
              "count   5.000000            5.000000\n",
              "mean   12.949400            1.131760\n",
              "std     0.505954            0.044203\n",
              "min    12.432000            1.086600\n",
              "max    13.507000            1.180500"
            ]
          },
          "execution_count": 217,
          "metadata": {},
          "output_type": "execute_result"
        }
      ],
      "source": [
        "T_diff = [12.816, 13.507, 12.536, 12.432, 13.456]\n",
        "W_diff = [1.1201, 1.1805, 1.0956, 1.0866, 1.1760]\n",
        "df2 = pd.DataFrame({\"t_dff(s)\": T_diff, \"wavelength_diff(A)\": W_diff})\n",
        "print(\"n_i = 5\")\n",
        "print(df2)\n",
        "df2.describe().loc[[\"count\", \"mean\", \"std\", \"min\", \"max\"]]"
      ]
    },
    {
      "attachments": {},
      "cell_type": "markdown",
      "metadata": {},
      "source": [
        "#### n_i = 6"
      ]
    },
    {
      "cell_type": "code",
      "execution_count": 218,
      "metadata": {},
      "outputs": [
        {
          "name": "stdout",
          "output_type": "stream",
          "text": [
            "n_i = 6\n",
            "   t_dff(s)  wavelength_diff(A)\n",
            "0    12.430              1.0864\n",
            "1    13.982              1.2220\n",
            "2    13.476              1.1778\n",
            "3    12.768              1.1159\n",
            "4    11.809              1.0321\n"
          ]
        },
        {
          "data": {
            "text/html": [
              "<div>\n",
              "<style scoped>\n",
              "    .dataframe tbody tr th:only-of-type {\n",
              "        vertical-align: middle;\n",
              "    }\n",
              "\n",
              "    .dataframe tbody tr th {\n",
              "        vertical-align: top;\n",
              "    }\n",
              "\n",
              "    .dataframe thead th {\n",
              "        text-align: right;\n",
              "    }\n",
              "</style>\n",
              "<table border=\"1\" class=\"dataframe\">\n",
              "  <thead>\n",
              "    <tr style=\"text-align: right;\">\n",
              "      <th></th>\n",
              "      <th>t_dff(s)</th>\n",
              "      <th>wavelength_diff(A)</th>\n",
              "    </tr>\n",
              "  </thead>\n",
              "  <tbody>\n",
              "    <tr>\n",
              "      <th>count</th>\n",
              "      <td>5.000000</td>\n",
              "      <td>5.000000</td>\n",
              "    </tr>\n",
              "    <tr>\n",
              "      <th>mean</th>\n",
              "      <td>12.893000</td>\n",
              "      <td>1.126840</td>\n",
              "    </tr>\n",
              "    <tr>\n",
              "      <th>std</th>\n",
              "      <td>0.855988</td>\n",
              "      <td>0.074805</td>\n",
              "    </tr>\n",
              "    <tr>\n",
              "      <th>min</th>\n",
              "      <td>11.809000</td>\n",
              "      <td>1.032100</td>\n",
              "    </tr>\n",
              "    <tr>\n",
              "      <th>max</th>\n",
              "      <td>13.982000</td>\n",
              "      <td>1.222000</td>\n",
              "    </tr>\n",
              "  </tbody>\n",
              "</table>\n",
              "</div>"
            ],
            "text/plain": [
              "        t_dff(s)  wavelength_diff(A)\n",
              "count   5.000000            5.000000\n",
              "mean   12.893000            1.126840\n",
              "std     0.855988            0.074805\n",
              "min    11.809000            1.032100\n",
              "max    13.982000            1.222000"
            ]
          },
          "execution_count": 218,
          "metadata": {},
          "output_type": "execute_result"
        }
      ],
      "source": [
        "T_diff = [12.430, 13.982, 13.476, 12.768, 11.809]\n",
        "W_diff = [1.0864, 1.2220, 1.1778, 1.1159, 1.0321]\n",
        "df2 = pd.DataFrame({\"t_dff(s)\": T_diff, \"wavelength_diff(A)\": W_diff})\n",
        "print(\"n_i = 6\")\n",
        "print(df2)\n",
        "df2.describe().loc[[\"count\", \"mean\", \"std\", \"min\", \"max\"]]"
      ]
    },
    {
      "cell_type": "code",
      "execution_count": null,
      "metadata": {},
      "outputs": [],
      "source": []
    },
    {
      "cell_type": "code",
      "execution_count": null,
      "metadata": {},
      "outputs": [],
      "source": []
    },
    {
      "cell_type": "code",
      "execution_count": null,
      "metadata": {},
      "outputs": [],
      "source": []
    },
    {
      "cell_type": "code",
      "execution_count": null,
      "metadata": {},
      "outputs": [],
      "source": []
    },
    {
      "cell_type": "code",
      "execution_count": null,
      "metadata": {},
      "outputs": [],
      "source": []
    },
    {
      "cell_type": "code",
      "execution_count": null,
      "metadata": {},
      "outputs": [],
      "source": []
    },
    {
      "cell_type": "code",
      "execution_count": 220,
      "metadata": {},
      "outputs": [
        {
          "data": {
            "text/plain": [
              "33.333333333333336"
            ]
          },
          "execution_count": 220,
          "metadata": {},
          "output_type": "execute_result"
        }
      ],
      "source": [
        "s1 = 20\n",
        "s2 = 30\n",
        "s3 = 20\n",
        "\n",
        "f1 = 10\n",
        "f2 = 15\n",
        "f3 = 20\n",
        "\n",
        "def s_prime(s, f, n):\n",
        "    s_prime = 1/(1/f - 1/s)\n",
        "    m = - s_prime / s\n",
        "    print(\"The magnification for {n}th lense is {m}\")\n",
        "    return s_prime, m\n",
        "\n",
        "def s(s, s_prime):\n",
        "    return s - s_prime\n",
        "    \n",
        "s_prime(s(s3, s_prime(s(s2, s_prime(s1, f1)), f2)), f3)"
      ]
    },
    {
      "cell_type": "code",
      "execution_count": null,
      "metadata": {},
      "outputs": [],
      "source": []
    }
  ],
  "metadata": {
    "kernelspec": {
      "display_name": "Python 3",
      "language": "python",
      "name": "python3"
    },
    "language_info": {
      "codemirror_mode": {
        "name": "ipython",
        "version": 3
      },
      "file_extension": ".py",
      "mimetype": "text/x-python",
      "name": "python",
      "nbconvert_exporter": "python",
      "pygments_lexer": "ipython3",
      "version": "3.10.6"
    }
  },
  "nbformat": 4,
  "nbformat_minor": 4
}
